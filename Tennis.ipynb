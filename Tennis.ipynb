{
 "cells": [
  {
   "cell_type": "markdown",
   "metadata": {},
   "source": [
    "# Collaboration and Competition\n",
    "\n",
    "---\n",
    "\n",
    "In this notebook, you will learn how to use the Unity ML-Agents environment for the third project of the [Deep Reinforcement Learning Nanodegree](https://www.udacity.com/course/deep-reinforcement-learning-nanodegree--nd893) program.\n",
    "\n",
    "### 1. Start the Environment\n",
    "\n",
    "We begin by importing the necessary packages.  If the code cell below returns an error, please revisit the project instructions to double-check that you have installed [Unity ML-Agents](https://github.com/Unity-Technologies/ml-agents/blob/master/docs/Installation.md) and [NumPy](http://www.numpy.org/)."
   ]
  },
  {
   "cell_type": "code",
   "execution_count": 1,
   "metadata": {},
   "outputs": [],
   "source": [
    "from unityagents import UnityEnvironment\n",
    "from common import *"
   ]
  },
  {
   "cell_type": "markdown",
   "metadata": {},
   "source": [
    "Next, we will start the environment!  **_Before running the code cell below_**, change the `file_name` parameter to match the location of the Unity environment that you downloaded.\n",
    "\n",
    "- **Mac**: `\"path/to/Tennis.app\"`\n",
    "- **Windows** (x86): `\"path/to/Tennis_Windows_x86/Tennis.exe\"`\n",
    "- **Windows** (x86_64): `\"path/to/Tennis_Windows_x86_64/Tennis.exe\"`\n",
    "- **Linux** (x86): `\"path/to/Tennis_Linux/Tennis.x86\"`\n",
    "- **Linux** (x86_64): `\"path/to/Tennis_Linux/Tennis.x86_64\"`\n",
    "- **Linux** (x86, headless): `\"path/to/Tennis_Linux_NoVis/Tennis.x86\"`\n",
    "- **Linux** (x86_64, headless): `\"path/to/Tennis_Linux_NoVis/Tennis.x86_64\"`\n",
    "\n",
    "For instance, if you are using a Mac, then you downloaded `Tennis.app`.  If this file is in the same folder as the notebook, then the line below should appear as follows:\n",
    "```\n",
    "env = UnityEnvironment(file_name=\"Tennis.app\")\n",
    "```"
   ]
  },
  {
   "cell_type": "code",
   "execution_count": 2,
   "metadata": {},
   "outputs": [
    {
     "name": "stderr",
     "output_type": "stream",
     "text": [
      "INFO:unityagents:\n",
      "'Academy' started successfully!\n",
      "Unity Academy name: Academy\n",
      "        Number of Brains: 1\n",
      "        Number of External Brains : 1\n",
      "        Lesson number : 0\n",
      "        Reset Parameters :\n",
      "\t\t\n",
      "Unity brain name: TennisBrain\n",
      "        Number of Visual Observations (per agent): 0\n",
      "        Vector Observation space type: continuous\n",
      "        Vector Observation space size (per agent): 8\n",
      "        Number of stacked Vector Observation: 3\n",
      "        Vector Action space type: continuous\n",
      "        Vector Action space size (per agent): 2\n",
      "        Vector Action descriptions: , \n"
     ]
    }
   ],
   "source": [
    "env = UnityEnvironment(file_name=\"./Tennis_Linux/Tennis.x86_64\")"
   ]
  },
  {
   "cell_type": "markdown",
   "metadata": {},
   "source": [
    "Environments contain **_brains_** which are responsible for deciding the actions of their associated agents. Here we check for the first brain available, and set it as the default brain we will be controlling from Python."
   ]
  },
  {
   "cell_type": "code",
   "execution_count": 3,
   "metadata": {},
   "outputs": [],
   "source": [
    "# get the default brain\n",
    "brain_name = env.brain_names[0]\n",
    "brain = env.brains[brain_name]"
   ]
  },
  {
   "cell_type": "markdown",
   "metadata": {},
   "source": [
    "### 2. Examine the State and Action Spaces\n",
    "\n",
    "In this environment, two agents control rackets to bounce a ball over a net. If an agent hits the ball over the net, it receives a reward of +0.1.  If an agent lets a ball hit the ground or hits the ball out of bounds, it receives a reward of -0.01.  Thus, the goal of each agent is to keep the ball in play.\n",
    "\n",
    "The observation space consists of 8 variables corresponding to the position and velocity of the ball and racket. Two continuous actions are available, corresponding to movement toward (or away from) the net, and jumping. \n",
    "\n",
    "Run the code cell below to print some information about the environment."
   ]
  },
  {
   "cell_type": "code",
   "execution_count": 4,
   "metadata": {},
   "outputs": [
    {
     "name": "stdout",
     "output_type": "stream",
     "text": [
      "Number of agents: 2\n",
      "Size of each action: 2\n",
      "There are 2 agents. Each observes a state with length: 24\n",
      "The state for the first agent looks like: [ 0.          0.          0.          0.          0.          0.\n",
      "  0.          0.          0.          0.          0.          0.\n",
      "  0.          0.          0.          0.         -6.65278625 -1.5\n",
      " -0.          0.          6.83172083  6.         -0.          0.        ]\n"
     ]
    }
   ],
   "source": [
    "# reset the environment\n",
    "env_info = env.reset(train_mode=True)[brain_name]\n",
    "\n",
    "# number of agents \n",
    "num_agents = len(env_info.agents)\n",
    "print('Number of agents:', num_agents)\n",
    "\n",
    "# size of each action\n",
    "action_size = brain.vector_action_space_size\n",
    "print('Size of each action:', action_size)\n",
    "\n",
    "# examine the state space \n",
    "states = env_info.vector_observations\n",
    "state_size = states.shape[1]\n",
    "print('There are {} agents. Each observes a state with length: {}'.format(states.shape[0], state_size))\n",
    "print('The state for the first agent looks like:', states[0])"
   ]
  },
  {
   "cell_type": "code",
   "execution_count": 5,
   "metadata": {},
   "outputs": [
    {
     "name": "stdout",
     "output_type": "stream",
     "text": [
      "Score (max over agents) from episode 1: 0.0\n",
      "Score (max over agents) from episode 2: 0.0\n",
      "Score (max over agents) from episode 3: 0.0\n",
      "Score (max over agents) from episode 4: 0.0\n",
      "Score (max over agents) from episode 5: 0.0\n"
     ]
    }
   ],
   "source": [
    "for i in range(1, 6):                                      # play game for 5 episodes\n",
    "    env_info = env.reset(train_mode=False)[brain_name]     # reset the environment    \n",
    "    states = env_info.vector_observations                  # get the current state (for each agent)\n",
    "    scores = np.zeros(num_agents)                          # initialize the score (for each agent)\n",
    "    while True:\n",
    "        actions = np.random.randn(num_agents, action_size) # select an action (for each agent)\n",
    "        actions = np.clip(actions, -1, 1)                  # all actions between -1 and 1\n",
    "        #print(actions.shape)\n",
    "        #actions = np.array([[-1,1],[1,0]])\n",
    "        env_info = env.step(actions)[brain_name]           # send all actions to tne environment\n",
    "        next_states = env_info.vector_observations         # get next state (for each agent)\n",
    "        rewards = env_info.rewards                         # get reward (for each agent)\n",
    "        dones = env_info.local_done                        # see if episode finished\n",
    "        scores += env_info.rewards                         # update the score (for each agent)\n",
    "        states = next_states                               # roll over states to next time step\n",
    "        if np.any(dones):                                  # exit loop if episode finished\n",
    "            break\n",
    "    print('Score (max over agents) from episode {}: {}'.format(i, np.max(scores)))"
   ]
  },
  {
   "cell_type": "markdown",
   "metadata": {},
   "source": [
    "### 3. Take Random Actions in the Environment\n",
    "\n",
    "In the next code cell, you will learn how to use the Python API to control the agents and receive feedback from the environment.\n",
    "\n",
    "Once this cell is executed, you will watch the agents' performance, if they select actions at random with each time step.  A window should pop up that allows you to observe the agents.\n",
    "\n",
    "Of course, as part of the project, you'll have to change the code so that the agents are able to use their experiences to gradually choose better actions when interacting with the environment!"
   ]
  },
  {
   "cell_type": "markdown",
   "metadata": {},
   "source": [
    "When finished, you can close the environment."
   ]
  },
  {
   "cell_type": "code",
   "execution_count": null,
   "metadata": {},
   "outputs": [],
   "source": [
    "env.close()"
   ]
  },
  {
   "cell_type": "markdown",
   "metadata": {},
   "source": [
    "### 4. It's Your Turn!\n",
    "\n",
    "Now it's your turn to train your own agent to solve the environment!  When training the environment, set `train_mode=True`, so that the line for resetting the environment looks like the following:\n",
    "```python\n",
    "env_info = env.reset(train_mode=True)[brain_name]\n",
    "```"
   ]
  },
  {
   "cell_type": "code",
   "execution_count": 6,
   "metadata": {},
   "outputs": [
    {
     "name": "stdout",
     "output_type": "stream",
     "text": [
      "Number of agents: 2\n",
      "Size of each action: 2\n",
      "Size of each state: 24\n"
     ]
    }
   ],
   "source": [
    "env_info = env.reset(train_mode=True)[brain_name]\n",
    "\n",
    "# get the current state (for each agent)\n",
    "states = env_info.vector_observations\n",
    "\n",
    "# number of agents \n",
    "num_agents = len(env_info.agents)\n",
    "print('Number of agents:', num_agents)\n",
    "\n",
    "# size of each action\n",
    "action_size = brain.vector_action_space_size\n",
    "print('Size of each action:', action_size)\n",
    "\n",
    "# examine the state space \n",
    "state_size = states.shape[1]\n",
    "print('Size of each state:',state_size)"
   ]
  },
  {
   "cell_type": "code",
   "execution_count": 7,
   "metadata": {},
   "outputs": [],
   "source": [
    "from agent import AgentTD3\n",
    "\n",
    "#Instatiate a new TD3 Agent Class Object\n",
    "agentTD3 = AgentTD3(state_size=state_size, action_size=action_size, num_agents=num_agents,seed=0)"
   ]
  },
  {
   "cell_type": "code",
   "execution_count": 8,
   "metadata": {},
   "outputs": [],
   "source": [
    "def get_env_info(enviroment):\n",
    "    states = enviroment.vector_observations   # get env state\n",
    "    rewards = enviroment.rewards              # get the reward\n",
    "    dones = enviroment.local_done             # get the done\n",
    "    #pdb.set_trace()\n",
    "    return states, rewards, dones"
   ]
  },
  {
   "cell_type": "code",
   "execution_count": 9,
   "metadata": {},
   "outputs": [],
   "source": [
    "def train_agentTD3(agent, exp_name='EXP1',n_episodes=3000, print_every=50, max_t=1000, \n",
    "                   n_start=0.4, n_end=0.0001, n_decay=0.995):\n",
    "    \"\"\" Training the TD3 Agent \"\"\"\n",
    "    scores_per_periode = []\n",
    "    scores_window = deque(maxlen=print_every)\n",
    "    noise_factor =  n_start\n",
    "    for i_episode in range(1, n_episodes+1):\n",
    "        #Reset Agent t_step count and noise object\n",
    "        agent.t_step = 0\n",
    "        #agent.noise.reset()\n",
    "        # reset the environment\n",
    "        env_info = env.reset(train_mode=True)[brain_name]\n",
    "        states, rewards, dones = get_env_info(env_info)\n",
    "        scores = np.zeros(num_agents)\n",
    "        #pdb.set_trace()\n",
    "        for t in range(max_t):\n",
    "            if i_episode <= 300:\n",
    "                actions = np.random.randn(num_agents, action_size) # select an action (for each agent)\n",
    "                actions = np.clip(actions, -1, 1)\n",
    "                #pdb.set_trace()\n",
    "            else:\n",
    "                noise_factor =  n_start\n",
    "                actions = agent.act(states, n_factor=noise_factor, add_noise=True)       # select an action\n",
    "                #pdb.set_trace()\n",
    "            #print(actions)\n",
    "            env_info = env.step(actions)[brain_name] #act the selected action\n",
    "            next_states, rewards, dones = get_env_info(env_info) # get new observations\n",
    "            #pdb.set_trace()\n",
    "            agent.step(states, actions, rewards, next_states, dones) #collected experience and learn\n",
    "            states = next_states\n",
    "            scores += rewards\n",
    "            if np.any(dones):\n",
    "                break\n",
    "        scores_window.append(np.mean(scores))\n",
    "        scores_per_periode.append(np.mean(scores))\n",
    "        noise_factor = max(n_end, n_decay*noise_factor)\n",
    "        if i_episode % print_every == 0:\n",
    "            #print(scores_window)\n",
    "            print('\\rEpisode {}\\tAverage Score: {:.2f}'.format(i_episode, np.mean(scores_window)))\n",
    "            #save the agent\n",
    "            torch.save(agent.actor_local.state_dict(), './saved_models/{}/checkpoint_actor_{}_{}.pth'.format(exp_name,i_episode,exp_name))\n",
    "            torch.save(agent.critic_local.state_dict(), './saved_models/{}/checkpoint_critic_{}_{}.pth'.format(exp_name,i_episode,exp_name))\n",
    "    return scores_per_periode"
   ]
  },
  {
   "cell_type": "code",
   "execution_count": 10,
   "metadata": {},
   "outputs": [
    {
     "name": "stdout",
     "output_type": "stream",
     "text": [
      "Episode 50\tAverage Score: 0.00\n",
      "Episode 100\tAverage Score: 0.00\n",
      "Episode 150\tAverage Score: 0.00\n",
      "Episode 200\tAverage Score: 0.01\n",
      "Episode 250\tAverage Score: 0.01\n",
      "Episode 300\tAverage Score: 0.01\n",
      "Episode 350\tAverage Score: -0.00\n",
      "Episode 400\tAverage Score: -0.00\n",
      "Episode 450\tAverage Score: -0.00\n",
      "Episode 500\tAverage Score: -0.00\n",
      "Episode 550\tAverage Score: -0.00\n",
      "Episode 600\tAverage Score: 0.02\n",
      "Episode 650\tAverage Score: 0.02\n",
      "Episode 700\tAverage Score: 0.01\n",
      "Episode 750\tAverage Score: 0.00\n",
      "Episode 800\tAverage Score: 0.00\n",
      "Episode 850\tAverage Score: 0.02\n",
      "Episode 900\tAverage Score: 0.03\n",
      "Episode 950\tAverage Score: 0.05\n",
      "Episode 1000\tAverage Score: 0.06\n",
      "Episode 1050\tAverage Score: 0.07\n",
      "Episode 1100\tAverage Score: 0.05\n",
      "Episode 1150\tAverage Score: 0.08\n",
      "Episode 1200\tAverage Score: 0.17\n",
      "Episode 1250\tAverage Score: 0.06\n",
      "Episode 1300\tAverage Score: 0.05\n",
      "Episode 1350\tAverage Score: 0.08\n",
      "Episode 1400\tAverage Score: 0.20\n",
      "Episode 1450\tAverage Score: 0.36\n",
      "Episode 1500\tAverage Score: 0.29\n",
      "Episode 1550\tAverage Score: 0.96\n",
      "Episode 1600\tAverage Score: 1.08\n",
      "Episode 1650\tAverage Score: 0.78\n",
      "Episode 1700\tAverage Score: 0.51\n",
      "Episode 1750\tAverage Score: 0.89\n",
      "Episode 1800\tAverage Score: 1.60\n",
      "Episode 1850\tAverage Score: 1.39\n",
      "Episode 1900\tAverage Score: 0.82\n",
      "Episode 1950\tAverage Score: 0.63\n",
      "Episode 2000\tAverage Score: 0.13\n",
      "Episode 2050\tAverage Score: 0.99\n",
      "Episode 2100\tAverage Score: 1.08\n",
      "Episode 2150\tAverage Score: 0.86\n",
      "Episode 2200\tAverage Score: 0.07\n",
      "Episode 2250\tAverage Score: 0.19\n",
      "Episode 2300\tAverage Score: 0.94\n",
      "Episode 2350\tAverage Score: 1.08\n",
      "Episode 2400\tAverage Score: 1.41\n",
      "Episode 2450\tAverage Score: 1.34\n",
      "Episode 2500\tAverage Score: 0.22\n",
      "Episode 2550\tAverage Score: 0.08\n",
      "Episode 2600\tAverage Score: 0.12\n",
      "Episode 2650\tAverage Score: 0.22\n",
      "Episode 2700\tAverage Score: 0.45\n",
      "Episode 2750\tAverage Score: 0.11\n",
      "Episode 2800\tAverage Score: 0.10\n",
      "Episode 2850\tAverage Score: 0.87\n",
      "Episode 2900\tAverage Score: 0.98\n",
      "Episode 2950\tAverage Score: 0.96\n",
      "Episode 3000\tAverage Score: 1.25\n"
     ]
    },
    {
     "data": {
      "image/png": "[encoded data removed]",
      "text/plain": [
       "<Figure size 432x288 with 1 Axes>"
      ]
     },
     "metadata": {
      "needs_background": "light"
     },
     "output_type": "display_data"
    }
   ],
   "source": [
    "#Init scores array\n",
    "scores = train_agentTD3(agentTD3,exp_name='EXP1')\n",
    "\n",
    "# plot the scores\n",
    "#View Scores\n",
    "fig = plt.figure()\n",
    "\n",
    "ax = fig.add_subplot(111)\n",
    "plt.plot(np.arange(len(scores)), scores)\n",
    "plt.ylabel('Score')\n",
    "plt.xlabel('Episode #')\n",
    "plt.show()\n"
   ]
  },
  {
   "cell_type": "code",
   "execution_count": 15,
   "metadata": {},
   "outputs": [
    {
     "name": "stdout",
     "output_type": "stream",
     "text": [
      "Total score (averaged over agents) this episode: 0.20000000298023224\n"
     ]
    }
   ],
   "source": [
    "from agent import AgentTD3\n",
    "\n",
    "#Instatiate a new TD3 Agent Class Object\n",
    "agentTD3_eval = AgentTD3(state_size=state_size, action_size=action_size, num_agents=num_agents,seed=0)\n",
    "\n",
    "agentTD3_eval.actor_local.load_state_dict(torch.load('./saved_models/EXP0/checkpoint_actor_2550_EXP0.pth'))\n",
    "agentTD3_eval.critic_local.load_state_dict(torch.load('./saved_models/EXP0/checkpoint_critic_2550_EXP0.pth'))\n",
    "\n",
    "\n",
    "env_info = env.reset(train_mode=False)[brain_name]     # reset the environment    \n",
    "states = env_info.vector_observations                 # get the current state (for each agent)\n",
    "scores = np.zeros(num_agents)                          # initialize the score (for each agent)\n",
    "while True:\n",
    "    actions = agentTD3_eval.act(states) # select an action (for each agent)\n",
    "    #print(type(actions))\n",
    "    env_info = env.step(actions)[brain_name]           # send all actions to tne environment\n",
    "    #pdb.set_trace()\n",
    "    next_states = env_info.vector_observations        # get next state (for each agent)\n",
    "    rewards = env_info.rewards                         # get reward (for each agent)\n",
    "    dones = env_info.local_done                        # see if episode finished\n",
    "    scores += env_info.rewards                         # update the score (for each agent)\n",
    "    states = next_states                               # roll over states to next time step\n",
    "    if np.any(dones):                                  # exit loop if episode finished\n",
    "        break\n",
    "print('Total score (averaged over agents) this episode: {}'.format(np.max(scores)))"
   ]
  },
  {
   "cell_type": "code",
   "execution_count": 13,
   "metadata": {},
   "outputs": [
    {
     "name": "stdout",
     "output_type": "stream",
     "text": [
      "Total score (averaged over agents) this episode: 0.5000000074505806\n"
     ]
    }
   ],
   "source": [
    "from agent import AgentTD3\n",
    "\n",
    "#Instatiate a new TD3 Agent Class Object\n",
    "agentTD3_eval = AgentTD3(state_size=state_size, action_size=action_size, num_agents=num_agents,seed=0)\n",
    "\n",
    "agentTD3_eval.actor_local.load_state_dict(torch.load('./saved_models/EXP1/checkpoint_actor_1800_EXP1.pth'))\n",
    "agentTD3_eval.critic_local.load_state_dict(torch.load('./saved_models/EXP1/checkpoint_critic_1800_EXP1.pth'))\n",
    "\n",
    "\n",
    "env_info = env.reset(train_mode=False)[brain_name]     # reset the environment    \n",
    "states = env_info.vector_observations                 # get the current state (for each agent)\n",
    "scores = np.zeros(num_agents)                          # initialize the score (for each agent)\n",
    "while True:\n",
    "    actions = agentTD3_eval.act(states) # select an action (for each agent)\n",
    "    #print(type(actions))\n",
    "    env_info = env.step(actions)[brain_name]           # send all actions to tne environment\n",
    "    #pdb.set_trace()\n",
    "    next_states = env_info.vector_observations        # get next state (for each agent)\n",
    "    rewards = env_info.rewards                         # get reward (for each agent)\n",
    "    dones = env_info.local_done                        # see if episode finished\n",
    "    scores += env_info.rewards                         # update the score (for each agent)\n",
    "    states = next_states                               # roll over states to next time step\n",
    "    if np.any(dones):                                  # exit loop if episode finished\n",
    "        break\n",
    "print('Total score (averaged over agents) this episode: {}'.format(np.max(scores)))"
   ]
  },
  {
   "cell_type": "code",
   "execution_count": null,
   "metadata": {},
   "outputs": [],
   "source": []
  }
 ],
 "metadata": {
  "kernelspec": {
   "display_name": "drlndV2",
   "language": "python",
   "name": "drlndv2"
  },
  "language_info": {
   "codemirror_mode": {
    "name": "ipython",
    "version": 3
   },
   "file_extension": ".py",
   "mimetype": "text/x-python",
   "name": "python",
   "nbconvert_exporter": "python",
   "pygments_lexer": "ipython3",
   "version": "3.6.13"
  }
 },
 "nbformat": 4,
 "nbformat_minor": 2
}
